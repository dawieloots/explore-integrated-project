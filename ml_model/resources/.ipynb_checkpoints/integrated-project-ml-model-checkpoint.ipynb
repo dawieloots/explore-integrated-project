{
 "cells": [
  {
   "cell_type": "code",
   "execution_count": 37,
   "metadata": {
    "executionInfo": {
     "elapsed": 3715,
     "status": "ok",
     "timestamp": 1717665536102,
     "user": {
      "displayName": "Dawie Loots",
      "userId": "00798578190767538914"
     },
     "user_tz": -120
    },
    "id": "-AW1gRSqCTV8"
   },
   "outputs": [],
   "source": [
    "# Libraries for data loading, data manipulation and data visulisation\n",
    "import numpy as np\n",
    "import pandas as pd\n",
    "\n",
    "# Libraries for data preparation and model building\n",
    "import string\n",
    "import datetime\n",
    "from sklearn import metrics\n",
    "from sklearn.model_selection import cross_val_score\n",
    "from sklearn.model_selection import train_test_split\n",
    "from sklearn.preprocessing import StandardScaler\n",
    "from sklearn.linear_model import LogisticRegression\n",
    "from sklearn import feature_selection\n",
    "from sklearn.feature_selection import SelectPercentile, SelectKBest, f_classif, mutual_info_classif,chi2, VarianceThreshold\n",
    "from sklearn.neighbors import KNeighborsClassifier\n",
    "from sklearn.svm import SVC\n",
    "from sklearn.tree import DecisionTreeClassifier\n",
    "from sklearn.ensemble import RandomForestClassifier, AdaBoostClassifier\n",
    "from sklearn.naive_bayes import GaussianNB, MultinomialNB\n",
    "from sklearn.metrics import classification_report, accuracy_score, log_loss\n",
    "from sklearn.model_selection import GridSearchCV, KFold, StratifiedKFold\n",
    "from sklearn.model_selection import cross_val_predict\n",
    "from imblearn.over_sampling import SMOTE\n",
    "from sklearn.model_selection import GridSearchCV\n",
    "from sklearn.decomposition import TruncatedSVD\n",
    "from sklearn.ensemble import RandomForestClassifier\n",
    "from sklearn.metrics import classification_report\n",
    "import pickle"
   ]
  },
  {
   "cell_type": "code",
   "execution_count": 13,
   "metadata": {
    "colab": {
     "base_uri": "https://localhost:8080/"
    },
    "executionInfo": {
     "elapsed": 28756,
     "status": "ok",
     "timestamp": 1717665564848,
     "user": {
      "displayName": "Dawie Loots",
      "userId": "00798578190767538914"
     },
     "user_tz": -120
    },
    "id": "OZYzrDt0Bxfs",
    "outputId": "bd190e40-7e76-4ea9-dbe3-41cb43f05a02"
   },
   "outputs": [
    {
     "name": "stdout",
     "output_type": "stream",
     "text": [
      "<class 'pandas.core.frame.DataFrame'>\n",
      "RangeIndex: 1000 entries, 0 to 999\n",
      "Data columns (total 46 columns):\n",
      " #   Column                        Non-Null Count  Dtype  \n",
      "---  ------                        --------------  -----  \n",
      " 0   Unnamed: 0                    1000 non-null   int64  \n",
      " 1   months_as_customer            1000 non-null   int64  \n",
      " 2   age                           1000 non-null   int64  \n",
      " 3   policy_number                 1000 non-null   int64  \n",
      " 4   policy_bind_date              1000 non-null   object \n",
      " 5   policy_state                  1000 non-null   object \n",
      " 6   policy_csl                    1000 non-null   object \n",
      " 7   policy_deductable             1000 non-null   int64  \n",
      " 8   policy_annual_premium         1000 non-null   float64\n",
      " 9   umbrella_limit                1000 non-null   int64  \n",
      " 10  insured_zip                   1000 non-null   int64  \n",
      " 11  insured_sex                   1000 non-null   object \n",
      " 12  insured_education_level       1000 non-null   object \n",
      " 13  insured_occupation            1000 non-null   object \n",
      " 14  insured_hobbies               1000 non-null   object \n",
      " 15  insured_relationship          1000 non-null   object \n",
      " 16  capital-gains                 1000 non-null   int64  \n",
      " 17  capital-loss                  1000 non-null   int64  \n",
      " 18  incident_date                 1000 non-null   object \n",
      " 19  incident_type                 1000 non-null   object \n",
      " 20  collision_type                1000 non-null   object \n",
      " 21  incident_severity             1000 non-null   object \n",
      " 22  authorities_contacted         1000 non-null   object \n",
      " 23  incident_state                1000 non-null   object \n",
      " 24  incident_city                 1000 non-null   object \n",
      " 25  incident_location             1000 non-null   object \n",
      " 26  incident_hour_of_the_day      1000 non-null   int64  \n",
      " 27  number_of_vehicles_involved   1000 non-null   int64  \n",
      " 28  property_damage               1000 non-null   object \n",
      " 29  bodily_injuries               1000 non-null   int64  \n",
      " 30  witnesses                     1000 non-null   int64  \n",
      " 31  police_report_available       1000 non-null   object \n",
      " 32  total_claim_amount            1000 non-null   int64  \n",
      " 33  injury_claim                  1000 non-null   int64  \n",
      " 34  property_claim                1000 non-null   int64  \n",
      " 35  vehicle_claim                 1000 non-null   int64  \n",
      " 36  auto_make                     1000 non-null   object \n",
      " 37  auto_model                    1000 non-null   object \n",
      " 38  auto_year                     1000 non-null   int64  \n",
      " 39  fraud_reported                1000 non-null   object \n",
      " 40  customer_category             1000 non-null   object \n",
      " 41  Contract Years                1000 non-null   float64\n",
      " 42  total_premiums_paid           1000 non-null   float64\n",
      " 43  net_value_of_customer         1000 non-null   float64\n",
      " 44  vehicle_age_at_incident_date  1000 non-null   int64  \n",
      " 45  incident_time_of_day          1000 non-null   object \n",
      "dtypes: float64(4), int64(19), object(23)\n",
      "memory usage: 359.5+ KB\n"
     ]
    }
   ],
   "source": [
    "# Load data\n",
    "url = 'https://raw.githubusercontent.com/dawieloots/explore-integrated-project/main/data/Advanced%20Features%20Claims%20Data.csv'\n",
    "df = pd.read_csv(url)\n",
    "df.info()"
   ]
  },
  {
   "cell_type": "code",
   "execution_count": 15,
   "metadata": {
    "colab": {
     "base_uri": "https://localhost:8080/"
    },
    "executionInfo": {
     "elapsed": 15,
     "status": "ok",
     "timestamp": 1717665568756,
     "user": {
      "displayName": "Dawie Loots",
      "userId": "00798578190767538914"
     },
     "user_tz": -120
    },
    "id": "i1ALOQ4-Cy70",
    "outputId": "8836d423-f7a3-4942-c5ba-611c68934bed"
   },
   "outputs": [
    {
     "name": "stdout",
     "output_type": "stream",
     "text": [
      "['policy_state', 'policy_csl', 'insured_sex', 'insured_education_level', 'insured_occupation', 'insured_hobbies', 'insured_relationship', 'incident_type', 'collision_type', 'incident_severity', 'authorities_contacted', 'incident_state', 'incident_city', 'property_damage', 'police_report_available', 'auto_make', 'auto_model', 'customer_category', 'incident_time_of_day']\n",
      "<class 'pandas.core.frame.DataFrame'>\n",
      "RangeIndex: 1000 entries, 0 to 999\n",
      "Columns: 155 entries, Unnamed: 0 to incident_time_of_day_night\n",
      "dtypes: float64(4), int32(133), int64(17), object(1)\n",
      "memory usage: 691.5+ KB\n"
     ]
    }
   ],
   "source": [
    "#Drop unnecessary columns\n",
    "to_drop = ['policy_number','policy_bind_date','insured_zip','incident_location','incident_date']\n",
    "df.drop(columns=to_drop,inplace=True)\n",
    "\n",
    "#Handle missing values\n",
    "df['authorities_contacted'] = df['authorities_contacted'].fillna('None') #The missing columns actually do contain the words \"None\" in the csv file\n",
    "\n",
    "#Convert all categorical features to numbers\n",
    "categorical_features = [col for col in df.select_dtypes(include=['object']).columns if col != 'fraud_reported']\n",
    "print(categorical_features)\n",
    "dummies = pd.get_dummies(df[categorical_features], drop_first = True, dtype=int)\n",
    "df.drop(categorical_features, axis=1, inplace=True)\n",
    "df = pd.concat([df, dummies], axis=1)\n",
    "df.info()"
   ]
  },
  {
   "cell_type": "code",
   "execution_count": 17,
   "metadata": {
    "colab": {
     "base_uri": "https://localhost:8080/"
    },
    "executionInfo": {
     "elapsed": 575,
     "status": "ok",
     "timestamp": 1717665569322,
     "user": {
      "displayName": "Dawie Loots",
      "userId": "00798578190767538914"
     },
     "user_tz": -120
    },
    "id": "fdcOEAphS6aB",
    "outputId": "d8948e13-e210-471e-b0c6-9dc17d5ddc1d"
   },
   "outputs": [
    {
     "name": "stdout",
     "output_type": "stream",
     "text": [
      "<class 'pandas.core.frame.DataFrame'>\n",
      "Int64Index: 800 entries, 887 to 594\n",
      "Columns: 154 entries, Unnamed: 0 to incident_time_of_day_night\n",
      "dtypes: float64(4), int32(133), int64(17)\n",
      "memory usage: 553.1 KB\n"
     ]
    }
   ],
   "source": [
    "#Split into test and train\n",
    "X = df.drop(columns=['fraud_reported']).copy()\n",
    "y = df['fraud_reported'].copy()\n",
    "X_train, X_test, y_train, y_test = train_test_split(X, y, test_size=0.2, random_state=42, stratify=y)\n",
    "X_train.info()"
   ]
  },
  {
   "cell_type": "code",
   "execution_count": 19,
   "metadata": {
    "executionInfo": {
     "elapsed": 14,
     "status": "ok",
     "timestamp": 1717665569323,
     "user": {
      "displayName": "Dawie Loots",
      "userId": "00798578190767538914"
     },
     "user_tz": -120
    },
    "id": "aWjKL3tPaxcT"
   },
   "outputs": [],
   "source": [
    "# Handle class imbalance\n",
    "smote = SMOTE(random_state=42)\n",
    "X_train, y_train = smote.fit_resample(X_train, y_train)\n",
    "X_train = pd.DataFrame(X_train, columns=X.columns)\n",
    "y_train = pd.DataFrame(y_train, columns=['fraud_reported'])"
   ]
  },
  {
   "cell_type": "code",
   "execution_count": 21,
   "metadata": {
    "executionInfo": {
     "elapsed": 12,
     "status": "ok",
     "timestamp": 1717665569323,
     "user": {
      "displayName": "Dawie Loots",
      "userId": "00798578190767538914"
     },
     "user_tz": -120
    },
    "id": "jr11O5-SMmex"
   },
   "outputs": [],
   "source": [
    "# Scale the data\n",
    "scaler = StandardScaler()\n",
    "columns_to_scale = X_train.columns[X_train.columns.get_loc('months_as_customer'):X_train.columns.get_loc('vehicle_age_at_incident_date')+1]\n",
    "X_train.loc[:, columns_to_scale] = scaler.fit_transform(X_train.loc[:, columns_to_scale])\n",
    "X_test.loc[:, columns_to_scale] = scaler.transform(X_test.loc[:, columns_to_scale])"
   ]
  },
  {
   "cell_type": "code",
   "execution_count": 25,
   "metadata": {
    "colab": {
     "base_uri": "https://localhost:8080/"
    },
    "executionInfo": {
     "elapsed": 621,
     "status": "ok",
     "timestamp": 1717665569932,
     "user": {
      "displayName": "Dawie Loots",
      "userId": "00798578190767538914"
     },
     "user_tz": -120
    },
    "id": "Jelyo_4p7CoS",
    "outputId": "25dc6629-735c-4a49-9747-779026d43193"
   },
   "outputs": [
    {
     "name": "stdout",
     "output_type": "stream",
     "text": [
      "Selected features: Index(['policy_csl_500/1000', 'incident_severity_Minor Damage',\n",
      "       'incident_severity_Total Loss', 'incident_severity_Trivial Damage',\n",
      "       'authorities_contacted_None', 'authorities_contacted_Police',\n",
      "       'incident_state_NY', 'incident_state_WV', 'property_damage_NO',\n",
      "       'police_report_available_YES'],\n",
      "      dtype='object')\n",
      "Selected features: Index(['policy_csl_500/1000', 'incident_severity_Minor Damage',\n",
      "       'incident_severity_Total Loss', 'incident_severity_Trivial Damage',\n",
      "       'authorities_contacted_None', 'authorities_contacted_Police',\n",
      "       'incident_state_NY', 'incident_state_WV', 'property_damage_NO',\n",
      "       'police_report_available_YES'],\n",
      "      dtype='object')\n"
     ]
    }
   ],
   "source": [
    "# Select best features\n",
    "y_train = np.ravel(y_train) # Convert y_train to a 1-dimensional array\n",
    "kbest = SelectKBest(score_func=f_classif, k=10)\n",
    "X_train_selected = kbest.fit_transform(X_train, y_train)\n",
    "X_test_selected = kbest.transform(X_test)\n",
    "X_train = pd.DataFrame(X_train_selected, columns=X_train.columns[kbest.get_support()])\n",
    "X_test = pd.DataFrame(X_test_selected, columns=X_test.columns[kbest.get_support()])\n",
    "print(\"Selected features:\", X_train.columns)\n",
    "print(\"Selected features:\", X_test.columns)\n"
   ]
  },
  {
   "cell_type": "code",
   "execution_count": 27,
   "metadata": {
    "colab": {
     "base_uri": "https://localhost:8080/"
    },
    "executionInfo": {
     "elapsed": 6376,
     "status": "ok",
     "timestamp": 1717665576299,
     "user": {
      "displayName": "Dawie Loots",
      "userId": "00798578190767538914"
     },
     "user_tz": -120
    },
    "id": "biaKgPoih8u3",
    "outputId": "247ad328-66e3-449c-de3f-2f2d89cd1d8f"
   },
   "outputs": [
    {
     "name": "stdout",
     "output_type": "stream",
     "text": [
      "Classification Report for Logistic Regression:\n",
      "               precision    recall  f1-score   support\n",
      "\n",
      "           N       0.83      0.87      0.85       602\n",
      "           Y       0.86      0.82      0.84       602\n",
      "\n",
      "    accuracy                           0.85      1204\n",
      "   macro avg       0.85      0.85      0.85      1204\n",
      "weighted avg       0.85      0.85      0.85      1204\n",
      "\n",
      "Classification Report for KNN:\n",
      "               precision    recall  f1-score   support\n",
      "\n",
      "           N       0.69      0.89      0.78       602\n",
      "           Y       0.85      0.59      0.70       602\n",
      "\n",
      "    accuracy                           0.74      1204\n",
      "   macro avg       0.77      0.74      0.74      1204\n",
      "weighted avg       0.77      0.74      0.74      1204\n",
      "\n",
      "Classification Report for SVM:\n",
      "               precision    recall  f1-score   support\n",
      "\n",
      "           N       0.83      0.88      0.85       602\n",
      "           Y       0.87      0.82      0.84       602\n",
      "\n",
      "    accuracy                           0.85      1204\n",
      "   macro avg       0.85      0.85      0.85      1204\n",
      "weighted avg       0.85      0.85      0.85      1204\n",
      "\n",
      "Classification Report for Decision Tree:\n",
      "               precision    recall  f1-score   support\n",
      "\n",
      "           N       0.82      0.85      0.84       602\n",
      "           Y       0.84      0.82      0.83       602\n",
      "\n",
      "    accuracy                           0.83      1204\n",
      "   macro avg       0.83      0.83      0.83      1204\n",
      "weighted avg       0.83      0.83      0.83      1204\n",
      "\n",
      "Classification Report for Random Forest:\n",
      "               precision    recall  f1-score   support\n",
      "\n",
      "           N       0.83      0.84      0.84       602\n",
      "           Y       0.84      0.83      0.83       602\n",
      "\n",
      "    accuracy                           0.84      1204\n",
      "   macro avg       0.84      0.84      0.84      1204\n",
      "weighted avg       0.84      0.84      0.84      1204\n",
      "\n",
      "Classification Report for Naive Bayes:\n",
      "               precision    recall  f1-score   support\n",
      "\n",
      "           N       0.83      0.83      0.83       602\n",
      "           Y       0.83      0.83      0.83       602\n",
      "\n",
      "    accuracy                           0.83      1204\n",
      "   macro avg       0.83      0.83      0.83      1204\n",
      "weighted avg       0.83      0.83      0.83      1204\n",
      "\n"
     ]
    }
   ],
   "source": [
    "# Define different models, and do CV on all of them\n",
    "\n",
    "models = {\n",
    "    'Logistic Regression': LogisticRegression(random_state=42),\n",
    "    'KNN': KNeighborsClassifier(),\n",
    "    'SVM': SVC(random_state=42),\n",
    "    'Decision Tree': DecisionTreeClassifier(random_state=42),\n",
    "    'Random Forest': RandomForestClassifier(random_state=42),\n",
    "    'Naive Bayes': GaussianNB()\n",
    "}\n",
    "\n",
    "y_test = np.ravel(y_test) # Convert y_test to a 1D-array\n",
    "\n",
    "for name, model in models.items():\n",
    "    y_pred_cv = cross_val_predict(model, X_train, y_train, cv=10)\n",
    "    report = classification_report(y_train, y_pred_cv)\n",
    "    print(f\"Classification Report for {name}:\\n\", report)"
   ]
  },
  {
   "cell_type": "code",
   "execution_count": 33,
   "metadata": {
    "colab": {
     "base_uri": "https://localhost:8080/",
     "height": 105
    },
    "executionInfo": {
     "elapsed": 34,
     "status": "ok",
     "timestamp": 1717665576301,
     "user": {
      "displayName": "Dawie Loots",
      "userId": "00798578190767538914"
     },
     "user_tz": -120
    },
    "id": "qBhvYs_Uqi4H",
    "outputId": "55f86d61-829c-492c-ea21-fc384efd6f8a"
   },
   "outputs": [
    {
     "name": "stdout",
     "output_type": "stream",
     "text": [
      "Best Parameters: {'C': 0.1, 'max_iter': 10000, 'penalty': 'l1', 'solver': 'saga'}\n",
      "Best Score: 0.8414384166177854\n",
      "Classification report for tuned model, on test set:\n",
      "               precision    recall  f1-score   support\n",
      "\n",
      "           N       0.91      0.86      0.88       151\n",
      "           Y       0.63      0.73      0.68        49\n",
      "\n",
      "    accuracy                           0.83       200\n",
      "   macro avg       0.77      0.80      0.78       200\n",
      "weighted avg       0.84      0.83      0.83       200\n",
      "\n"
     ]
    }
   ],
   "source": [
    "# Seems like LogisticRegression performed the best.  It may also be the best option for this project because it is easy to interpret\n",
    "# Let's do some hyperparameter tuning on it\n",
    "\n",
    "clf = LogisticRegression()\n",
    "param_grid = {\n",
    "    'penalty': ['l1', 'l2'],                # Penalty term (L1 or L2 regularization)\n",
    "    'C': [0.001, 0.01, 0.1, 1, 10, 100],    # Inverse of regularization strength\n",
    "    'solver': ['liblinear', 'saga'],\n",
    "    'max_iter': [10000]\n",
    "}\n",
    "\n",
    "grid_search = GridSearchCV(estimator=clf, param_grid=param_grid, cv=5, scoring='f1_macro', verbose=0)\n",
    "grid_search.fit(X_train, y_train)\n",
    "best_params = grid_search.best_params_\n",
    "best_score = grid_search.best_score_\n",
    "print(\"Best Parameters:\", best_params)\n",
    "print(\"Best Score:\", best_score)\n",
    "\n",
    "best_rf_classifier = grid_search.best_estimator_\n",
    "\n",
    "# Evaluate the best model on the test set\n",
    "y_pred = best_rf_classifier.predict(X_test)\n",
    "report = classification_report(y_test, y_pred)\n",
    "print(\"Classification report for tuned model, on test set:\\n\", report)\n"
   ]
  },
  {
   "cell_type": "code",
   "execution_count": 35,
   "metadata": {
    "colab": {
     "base_uri": "https://localhost:8080/",
     "height": 74
    },
    "executionInfo": {
     "elapsed": 34,
     "status": "ok",
     "timestamp": 1717665576302,
     "user": {
      "displayName": "Dawie Loots",
      "userId": "00798578190767538914"
     },
     "user_tz": -120
    },
    "id": "UhS8BEwW43G-",
    "outputId": "2cfb2e9c-6f2c-4b49-c57f-42f1751f8104"
   },
   "outputs": [
    {
     "data": {
      "text/html": [
       "<style>#sk-container-id-1 {color: black;}#sk-container-id-1 pre{padding: 0;}#sk-container-id-1 div.sk-toggleable {background-color: white;}#sk-container-id-1 label.sk-toggleable__label {cursor: pointer;display: block;width: 100%;margin-bottom: 0;padding: 0.3em;box-sizing: border-box;text-align: center;}#sk-container-id-1 label.sk-toggleable__label-arrow:before {content: \"▸\";float: left;margin-right: 0.25em;color: #696969;}#sk-container-id-1 label.sk-toggleable__label-arrow:hover:before {color: black;}#sk-container-id-1 div.sk-estimator:hover label.sk-toggleable__label-arrow:before {color: black;}#sk-container-id-1 div.sk-toggleable__content {max-height: 0;max-width: 0;overflow: hidden;text-align: left;background-color: #f0f8ff;}#sk-container-id-1 div.sk-toggleable__content pre {margin: 0.2em;color: black;border-radius: 0.25em;background-color: #f0f8ff;}#sk-container-id-1 input.sk-toggleable__control:checked~div.sk-toggleable__content {max-height: 200px;max-width: 100%;overflow: auto;}#sk-container-id-1 input.sk-toggleable__control:checked~label.sk-toggleable__label-arrow:before {content: \"▾\";}#sk-container-id-1 div.sk-estimator input.sk-toggleable__control:checked~label.sk-toggleable__label {background-color: #d4ebff;}#sk-container-id-1 div.sk-label input.sk-toggleable__control:checked~label.sk-toggleable__label {background-color: #d4ebff;}#sk-container-id-1 input.sk-hidden--visually {border: 0;clip: rect(1px 1px 1px 1px);clip: rect(1px, 1px, 1px, 1px);height: 1px;margin: -1px;overflow: hidden;padding: 0;position: absolute;width: 1px;}#sk-container-id-1 div.sk-estimator {font-family: monospace;background-color: #f0f8ff;border: 1px dotted black;border-radius: 0.25em;box-sizing: border-box;margin-bottom: 0.5em;}#sk-container-id-1 div.sk-estimator:hover {background-color: #d4ebff;}#sk-container-id-1 div.sk-parallel-item::after {content: \"\";width: 100%;border-bottom: 1px solid gray;flex-grow: 1;}#sk-container-id-1 div.sk-label:hover label.sk-toggleable__label {background-color: #d4ebff;}#sk-container-id-1 div.sk-serial::before {content: \"\";position: absolute;border-left: 1px solid gray;box-sizing: border-box;top: 0;bottom: 0;left: 50%;z-index: 0;}#sk-container-id-1 div.sk-serial {display: flex;flex-direction: column;align-items: center;background-color: white;padding-right: 0.2em;padding-left: 0.2em;position: relative;}#sk-container-id-1 div.sk-item {position: relative;z-index: 1;}#sk-container-id-1 div.sk-parallel {display: flex;align-items: stretch;justify-content: center;background-color: white;position: relative;}#sk-container-id-1 div.sk-item::before, #sk-container-id-1 div.sk-parallel-item::before {content: \"\";position: absolute;border-left: 1px solid gray;box-sizing: border-box;top: 0;bottom: 0;left: 50%;z-index: -1;}#sk-container-id-1 div.sk-parallel-item {display: flex;flex-direction: column;z-index: 1;position: relative;background-color: white;}#sk-container-id-1 div.sk-parallel-item:first-child::after {align-self: flex-end;width: 50%;}#sk-container-id-1 div.sk-parallel-item:last-child::after {align-self: flex-start;width: 50%;}#sk-container-id-1 div.sk-parallel-item:only-child::after {width: 0;}#sk-container-id-1 div.sk-dashed-wrapped {border: 1px dashed gray;margin: 0 0.4em 0.5em 0.4em;box-sizing: border-box;padding-bottom: 0.4em;background-color: white;}#sk-container-id-1 div.sk-label label {font-family: monospace;font-weight: bold;display: inline-block;line-height: 1.2em;}#sk-container-id-1 div.sk-label-container {text-align: center;}#sk-container-id-1 div.sk-container {/* jupyter's `normalize.less` sets `[hidden] { display: none; }` but bootstrap.min.css set `[hidden] { display: none !important; }` so we also need the `!important` here to be able to override the default hidden behavior on the sphinx rendered scikit-learn.org. See: https://github.com/scikit-learn/scikit-learn/issues/21755 */display: inline-block !important;position: relative;}#sk-container-id-1 div.sk-text-repr-fallback {display: none;}</style><div id=\"sk-container-id-1\" class=\"sk-top-container\"><div class=\"sk-text-repr-fallback\"><pre>LogisticRegression(C=10, max_iter=10000, solver=&#x27;saga&#x27;)</pre><b>In a Jupyter environment, please rerun this cell to show the HTML representation or trust the notebook. <br />On GitHub, the HTML representation is unable to render, please try loading this page with nbviewer.org.</b></div><div class=\"sk-container\" hidden><div class=\"sk-item\"><div class=\"sk-estimator sk-toggleable\"><input class=\"sk-toggleable__control sk-hidden--visually\" id=\"sk-estimator-id-1\" type=\"checkbox\" checked><label for=\"sk-estimator-id-1\" class=\"sk-toggleable__label sk-toggleable__label-arrow\">LogisticRegression</label><div class=\"sk-toggleable__content\"><pre>LogisticRegression(C=10, max_iter=10000, solver=&#x27;saga&#x27;)</pre></div></div></div></div></div>"
      ],
      "text/plain": [
       "LogisticRegression(C=10, max_iter=10000, solver='saga')"
      ]
     },
     "execution_count": 35,
     "metadata": {},
     "output_type": "execute_result"
    }
   ],
   "source": [
    "# We will now continue to train a logistic regression model on the full dataset\n",
    "\n",
    "X = np.concatenate([X_train, X_test], axis=0)\n",
    "y = np.concatenate([y_train, y_test], axis=0)\n",
    "clf = LogisticRegression(C=10, max_iter=10000, penalty='l2', solver='saga')\n",
    "clf.fit(X, y)"
   ]
  },
  {
   "cell_type": "code",
   "execution_count": null,
   "metadata": {
    "executionInfo": {
     "elapsed": 32,
     "status": "ok",
     "timestamp": 1717665576302,
     "user": {
      "displayName": "Dawie Loots",
      "userId": "00798578190767538914"
     },
     "user_tz": -120
    },
    "id": "9lXcnO5q6Ct7"
   },
   "outputs": [],
   "source": [
    "# Now that the model is fitted, we will save it as a pickle file, so that our app can use it\n",
    "model_save_path = f'/content/drive/MyDrive/Professionele ontwikkeling/Data Science/Explore Data Science Course/Integrated Project/Github/explore-integrated-project/ml_model/resources/model.pkl'\n",
    "with open(model_save_path,'wb') as file:\n",
    "    pickle.dump(clf,file)"
   ]
  },
  {
   "cell_type": "code",
   "execution_count": 45,
   "metadata": {
    "colab": {
     "base_uri": "https://localhost:8080/"
    },
    "executionInfo": {
     "elapsed": 32,
     "status": "ok",
     "timestamp": 1717665576303,
     "user": {
      "displayName": "Dawie Loots",
      "userId": "00798578190767538914"
     },
     "user_tz": -120
    },
    "id": "oG3wz4w1-QcV",
    "outputId": "94906602-1ab8-4125-9bc9-453b7e724073"
   },
   "outputs": [
    {
     "name": "stdout",
     "output_type": "stream",
     "text": [
      "['N']\n"
     ]
    }
   ],
   "source": [
    "# This cell is just an example of how unseen data will be passed to the model. The same logic below will also be specified in the app.\n",
    "\n",
    "new_data = {\n",
    "    'csl': '500/1000',\n",
    "    'incident_severity': 'Major Damage',\n",
    "    'incident_state': 'SC',\n",
    "    'authorities_contacted': 'Police',\n",
    "    'property_damage': 'NO',\n",
    "    'police_report_available': 'YES'\n",
    "}\n",
    "\n",
    "policy_csl_5001000 = 0\n",
    "if new_data['csl'] == '500/1000':\n",
    "    policy_csl_5001000 = 1\n",
    "\n",
    "incident_severity_MinorDamage = 0\n",
    "incident_severity_TotalLoss = 0\n",
    "incident_severity_TrivialDamage = 0\n",
    "if new_data['incident_severity'] == 'Minor Damage':\n",
    "    incident_severity_MinorDamage = 1\n",
    "elif new_data['incident_severity'] == 'Total Loss':\n",
    "    incident_severity_TotalLoss = 1\n",
    "elif new_data['incident_severity'] == 'Trivial Damage':\n",
    "    incident_severity_TrivialDamage = 1\n",
    "authorities_contacted_None = 0\n",
    "authorities_contacted_Police = 0\n",
    "if new_data['authorities_contacted'] == 'None':\n",
    "    authorities_contacted_None = 1\n",
    "if new_data['authorities_contacted'] == 'Police':\n",
    "    authorities_contacted_Police = 1\n",
    "incident_state_NY = 0\n",
    "incident_state_WV = 0\n",
    "if new_data['incident_state'] == 'NY':\n",
    "    incident_state_NY = 1\n",
    "elif new_data['incident_state'] == 'WV':\n",
    "    incident_state_WV = 1\n",
    "property_damage_NO = 0\n",
    "if new_data['property_damage'] == 'NO':\n",
    "    property_damage_NO = 1\n",
    "police_report_available_YES = 0\n",
    "if new_data['police_report_available'] == 'YES':\n",
    "    police_report_available_YES = 1\n",
    "\n",
    "X_unseen = np.array([policy_csl_5001000,incident_severity_MinorDamage,\n",
    "                    incident_severity_TotalLoss, incident_severity_TrivialDamage,\n",
    "                    authorities_contacted_None, authorities_contacted_Police,\n",
    "                    incident_state_NY, incident_state_WV,property_damage_NO,\n",
    "                    police_report_available_YES])\n",
    "\n",
    "X_unseen = X_unseen.reshape(1, -1)\n",
    "y_pred = clf.predict(X_unseen)\n",
    "print(y_pred)"
   ]
  }
 ],
 "metadata": {
  "colab": {
   "authorship_tag": "ABX9TyPYoJ/k6QMEbjgx3J96WkbW",
   "provenance": [
    {
     "file_id": "194-xPvFRf4HBHEFoBCnHBDGw_WIeKaAT",
     "timestamp": 1717663251886
    }
   ]
  },
  "kernelspec": {
   "display_name": "Python 3 (ipykernel)",
   "language": "python",
   "name": "python3"
  },
  "language_info": {
   "codemirror_mode": {
    "name": "ipython",
    "version": 3
   },
   "file_extension": ".py",
   "mimetype": "text/x-python",
   "name": "python",
   "nbconvert_exporter": "python",
   "pygments_lexer": "ipython3",
   "version": "3.11.4"
  }
 },
 "nbformat": 4,
 "nbformat_minor": 4
}
